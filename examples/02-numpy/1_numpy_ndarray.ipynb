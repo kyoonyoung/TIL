{
  "cells": [
    {
      "cell_type": "code",
      "execution_count": null,
      "metadata": {
        "vscode": {
          "languageId": "plaintext"
        },
        "id": "v6J-nmhlQckI"
      },
      "outputs": [],
      "source": [
        "# 1. NumPy 임포트\n",
        "import numpy as np\n"
      ]
    },
    {
      "cell_type": "code",
      "execution_count": null,
      "metadata": {
        "vscode": {
          "languageId": "plaintext"
        },
        "id": "iauXhxubQckJ"
      },
      "outputs": [],
      "source": [
        "\n",
        "# 2. 기본 배열 생성\n",
        "# 2.1 리스트를 사용한 배열 생성\n",
        "numbers = [1, 2, 3, 4, 5]\n",
        "arr = np.array(numbers)\n",
        "print(\"기본 배열:\", arr)\n",
        "print(\"배열 타입:\", type(arr))\n",
        "print(\"배열 데이터 타입:\", arr.dtype)\n"
      ]
    },
    {
      "cell_type": "code",
      "execution_count": null,
      "metadata": {
        "vscode": {
          "languageId": "plaintext"
        },
        "id": "sCwc2PvxQckK"
      },
      "outputs": [],
      "source": [
        "\n",
        "# 2.2 다양한 데이터 타입으로 배열 생성\n",
        "int_arr = np.array([1, 2, 3, 4], dtype=np.int32)\n",
        "float_arr = np.array([1.0, 2.0, 3.0, 4.0], dtype=np.float64)\n",
        "print(\"\\n정수형 배열:\", int_arr)\n",
        "print(\"실수형 배열:\", float_arr)\n"
      ]
    },
    {
      "cell_type": "code",
      "execution_count": null,
      "metadata": {
        "vscode": {
          "languageId": "plaintext"
        },
        "id": "uEcVhVcTQckK"
      },
      "outputs": [],
      "source": [
        "\n",
        "# 3. 다차원 배열 생성\n",
        "# 3.1 2차원 배열 (행렬)\n",
        "matrix = np.array([[1, 2, 3], [4, 5, 6]])\n",
        "print(\"\\n2차원 배열:\\n\", matrix)\n",
        "print(\"2차원 배열 shape:\", matrix.shape)\n",
        "print(\"2차원 배열 차원:\", matrix.ndim)\n"
      ]
    },
    {
      "cell_type": "code",
      "execution_count": null,
      "metadata": {
        "vscode": {
          "languageId": "plaintext"
        },
        "id": "9DKQdJCdQckK"
      },
      "outputs": [],
      "source": [
        "\n",
        "# 3.2 3차원 배열 (텐서)\n",
        "tensor = np.array([[[1, 2], [3, 4]], [[5, 6], [7, 8]]])\n",
        "print(\"\\n3차원 배열:\\n\", tensor)\n",
        "print(\"3차원 배열 shape:\", tensor.shape)\n",
        "print(\"3차원 배열 차원:\", tensor.ndim)\n"
      ]
    },
    {
      "cell_type": "code",
      "execution_count": null,
      "metadata": {
        "vscode": {
          "languageId": "plaintext"
        },
        "id": "8x4E0dugQckL"
      },
      "outputs": [],
      "source": [
        "\n",
        "# 4. 배열의 기본 속성\n",
        "print(\"\\n배열 속성:\")\n",
        "print(\"크기(size):\", matrix.size)\n",
        "print(\"shape:\", matrix.shape)\n",
        "print(\"차원(ndim):\", matrix.ndim)\n",
        "print(\"데이터 타입(dtype):\", matrix.dtype)\n",
        "print(\"메모리 크기(nbytes):\", matrix.nbytes, \"bytes\")\n"
      ]
    },
    {
      "cell_type": "code",
      "execution_count": null,
      "metadata": {
        "vscode": {
          "languageId": "plaintext"
        },
        "id": "9i1D84RtQckL"
      },
      "outputs": [],
      "source": [
        "\n",
        "# 5. 특수 배열 생성\n",
        "# 5.1 0으로 채워진 배열\n",
        "zeros = np.zeros((3, 4))\n",
        "print(\"\\n0으로 채워진 배열:\\n\", zeros)\n"
      ]
    },
    {
      "cell_type": "code",
      "execution_count": null,
      "metadata": {
        "vscode": {
          "languageId": "plaintext"
        },
        "id": "AVRdoZuNQckL"
      },
      "outputs": [],
      "source": [
        "\n",
        "# 5.2 1로 채워진 배열\n",
        "ones = np.ones((2, 3))\n",
        "print(\"\\n1로 채워진 배열:\\n\", ones)\n"
      ]
    },
    {
      "cell_type": "code",
      "execution_count": null,
      "metadata": {
        "vscode": {
          "languageId": "plaintext"
        },
        "id": "nTe3T344QckL"
      },
      "outputs": [],
      "source": [
        "\n",
        "# 5.3 단위 행렬\n",
        "eye = np.eye(3)\n",
        "print(\"\\n단위 행렬:\\n\", eye)\n"
      ]
    },
    {
      "cell_type": "code",
      "execution_count": null,
      "metadata": {
        "vscode": {
          "languageId": "plaintext"
        },
        "id": "EmWgudrzQckL"
      },
      "outputs": [],
      "source": [
        "\n",
        "# 6. 데이터 타입 변환\n",
        "mixed_arr = np.array([1, 2.5, \"3\", 4], dtype=np.float64)\n",
        "print(\"\\n혼합 데이터 타입 배열:\", mixed_arr)\n",
        "print(\"변환된 데이터 타입:\", mixed_arr.dtype)"
      ]
    }
  ],
  "metadata": {
    "anaconda-cloud": {},
    "kernelspec": {
      "display_name": "Python 3",
      "language": "python",
      "name": "python3"
    },
    "language_info": {
      "codemirror_mode": {
        "name": "ipython",
        "version": 3
      },
      "file_extension": ".py",
      "mimetype": "text/x-python",
      "name": "python",
      "nbconvert_exporter": "python",
      "pygments_lexer": "ipython3",
      "version": "3.6.2"
    },
    "nav_menu": {},
    "toc": {
      "navigate_menu": true,
      "number_sections": true,
      "sideBar": true,
      "threshold": 6,
      "toc_cell": false,
      "toc_section_display": "block",
      "toc_window_display": false
    },
    "colab": {
      "provenance": []
    }
  },
  "nbformat": 4,
  "nbformat_minor": 0
}